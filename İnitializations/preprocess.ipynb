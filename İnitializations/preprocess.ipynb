{
 "cells": [
  {
   "cell_type": "code",
   "execution_count": 2,
   "metadata": {},
   "outputs": [],
   "source": [
    "import pandas as pd\n",
    "import numpy as np\n",
    "import re"
   ]
  },
  {
   "cell_type": "code",
   "execution_count": 3,
   "metadata": {},
   "outputs": [],
   "source": [
    "user_rating = pd.read_csv('data\\movies.csv')\n",
    "tmdb = pd.read_csv('data\\\\tmdb_movies_data.csv')\n",
    "user_rating[\"title\"]= user_rating[\"title\"].apply(lambda x: re.sub(r\"\\([^)]*\\)\", \"\", x))\n",
    "user_rating[\"title\"] = user_rating[\"title\"].apply(lambda x: x.strip())"
   ]
  },
  {
   "cell_type": "code",
   "execution_count": 4,
   "metadata": {},
   "outputs": [],
   "source": [
    "#match the movie titles in both the dataframes\n",
    "user_rating_movies = user_rating[\"title\"].unique()\n",
    "tmdb_movies = tmdb[\"original_title\"].unique()\n",
    "common = np.intersect1d(user_rating_movies, tmdb_movies)\n",
    "user_rating = user_rating[user_rating[\"title\"].isin(common)]\n",
    "existing_movie_ids = user_rating[\"movieId\"].unique()"
   ]
  },
  {
   "cell_type": "code",
   "execution_count": 15,
   "metadata": {},
   "outputs": [],
   "source": [
    "#filter the ratings dataframe to only include the movies that are present in the tmdb dataframe and select the users who have rated significant amount of movies\n",
    "ratings = pd.read_csv('data\\\\ratings.csv')\n",
    "ratings = ratings[ratings[\"movieId\"].isin(existing_movie_ids)]\n",
    "selected_users = ratings.groupby(\"userId\").count().sort_values(\"movieId\", ascending=False)\n",
    "selected_users = selected_users[selected_users[\"movieId\"]*0.2 > 20].index"
   ]
  },
  {
   "cell_type": "code",
   "execution_count": 16,
   "metadata": {},
   "outputs": [],
   "source": [
    "#match the movie names and make ratings binary\n",
    "ratings = ratings[ratings[\"userId\"].isin(selected_users)]\n",
    "ratings[\"movieTitle\"] = ratings[\"movieId\"].apply(lambda x: user_rating[user_rating[\"movieId\"]==x][\"title\"].values[0])\n",
    "ratings[\"rating\"] = ratings[\"rating\"].apply(lambda x: int(x))\n",
    "ratings[\"rating\"] = ratings[\"rating\"].apply(lambda x: 1 if x>=3 else 0)\n",
    "ratings.to_csv(\"data\\\\ratings_selected.csv\", index=False)"
   ]
  }
 ],
 "metadata": {
  "kernelspec": {
   "display_name": "datamining",
   "language": "python",
   "name": "python3"
  },
  "language_info": {
   "codemirror_mode": {
    "name": "ipython",
    "version": 3
   },
   "file_extension": ".py",
   "mimetype": "text/x-python",
   "name": "python",
   "nbconvert_exporter": "python",
   "pygments_lexer": "ipython3",
   "version": "3.9.16"
  }
 },
 "nbformat": 4,
 "nbformat_minor": 2
}
