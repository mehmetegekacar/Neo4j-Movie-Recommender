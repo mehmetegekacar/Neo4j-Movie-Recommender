{
 "cells": [
  {
   "cell_type": "code",
   "execution_count": 2,
   "metadata": {},
   "outputs": [],
   "source": [
    "from neo4j import GraphDatabase\n",
    "from py2neo import Graph\n",
    "import pandas as pd\n",
    "import numpy as np"
   ]
  },
  {
   "cell_type": "code",
   "execution_count": 3,
   "metadata": {},
   "outputs": [],
   "source": [
    "uri=\"neo4j+s://1c8f07f5.databases.neo4j.io\"\n",
    "username=\"neo4j\"\n",
    "password=\"uycJUUxlA1SDUncKIgImCp_DT8hASOiqSQ-V7pnLRCY\""
   ]
  },
  {
   "cell_type": "code",
   "execution_count": 4,
   "metadata": {},
   "outputs": [],
   "source": [
    "#get the datasets\n",
    "user_ratings = pd.read_csv('data\\\\ratings_train.csv')\n",
    "tmdb = pd.read_csv('data\\\\tmdb_movies_data.csv')"
   ]
  },
  {
   "cell_type": "code",
   "execution_count": 5,
   "metadata": {},
   "outputs": [],
   "source": [
    "# Connect to the Neo4j database\n",
    "graph = GraphDatabase.driver(uri, auth=(username, password))\n",
    "\n",
    "# Create a session\n",
    "session = graph.session()\n",
    "\n",
    "for _, i in user_ratings.iterrows():\n",
    "    id = i['userId']\n",
    "    name = i['movieTitle']\n",
    "    df = tmdb[tmdb['original_title'] == name]\n",
    "\n",
    "    original_title = df[\"original_title\"].values[0]\n",
    "    release_date = df[\"release_date\"].values[0]\n",
    "    popularity = df[\"popularity\"].values[0]\n",
    "\n",
    "    query_to_create_user_add_rating = \"\"\"\n",
    "    MERGE (u:User {id: $id})\n",
    "    WITH u\n",
    "    MATCH (m:Movie {original_title: $original_title, release_date: $release_date, popularity: $popularity})\n",
    "    MERGE (u)-[:watched]->(m)\n",
    "    \"\"\"\n",
    "\n",
    "    parameters_genre = {\n",
    "                \"original_title\": original_title,\n",
    "                \"release_date\": release_date,\n",
    "                \"popularity\": popularity,\n",
    "                \"id\": id\n",
    "            }\n",
    "    session.run(query_to_create_user_add_rating, parameters_genre)\n",
    "\n",
    "# Close the session\n",
    "session.close()\n",
    "\n",
    "# Close the Neo4j connection\n",
    "graph.close()\n"
   ]
  },
  {
   "cell_type": "code",
   "execution_count": null,
   "metadata": {},
   "outputs": [],
   "source": []
  }
 ],
 "metadata": {
  "kernelspec": {
   "display_name": "datamining",
   "language": "python",
   "name": "python3"
  },
  "language_info": {
   "codemirror_mode": {
    "name": "ipython",
    "version": 3
   },
   "file_extension": ".py",
   "mimetype": "text/x-python",
   "name": "python",
   "nbconvert_exporter": "python",
   "pygments_lexer": "ipython3",
   "version": "3.9.16"
  }
 },
 "nbformat": 4,
 "nbformat_minor": 2
}
