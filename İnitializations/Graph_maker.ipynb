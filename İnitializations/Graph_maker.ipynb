{
 "cells": [
  {
   "cell_type": "code",
   "execution_count": 2,
   "metadata": {},
   "outputs": [],
   "source": [
    "from neo4j import GraphDatabase\n",
    "from py2neo import Graph\n",
    "import pandas as pd\n",
    "import numpy as np"
   ]
  },
  {
   "cell_type": "code",
   "execution_count": 97,
   "metadata": {},
   "outputs": [],
   "source": [
    "uri=\"neo4j+s://1c8f07f5.databases.neo4j.io\"\n",
    "username=\"neo4j\"\n",
    "password=\"uycJUUxlA1SDUncKIgImCp_DT8hASOiqSQ-V7pnLRCY\""
   ]
  },
  {
   "cell_type": "code",
   "execution_count": 3,
   "metadata": {},
   "outputs": [],
   "source": [
    "tmdb = pd.read_csv(\"data\\\\tmdb_movies_data.csv\")\n",
    "tmdb[\"cast\"] = tmdb[\"cast\"].apply(lambda x: str(x))\n",
    "tmdb[\"cast\"] = tmdb[\"cast\"].apply(lambda x: x.split(\"|\"))\n",
    "tmdb[\"genres\"] = tmdb[\"genres\"].apply(lambda x: str(x))\n",
    "tmdb[\"genres\"] = tmdb[\"genres\"].apply(lambda x: x.split(\"|\"))\n",
    "tmdb = tmdb[[\"original_title\", \"director\",\"cast\", \"genres\", \"release_date\", \"popularity\"]]\n",
    "tmdb = tmdb.dropna()"
   ]
  },
  {
   "cell_type": "code",
   "execution_count": 105,
   "metadata": {},
   "outputs": [],
   "source": [
    "# Connect to the Neo4j database\n",
    "graph = GraphDatabase.driver(uri, auth=(username, password))\n",
    "\n",
    "# Create a session\n",
    "session = graph.session()\n",
    "\n",
    "# Iterate over the DataFrame rows\n",
    "for _, row in tmdb.iterrows():\n",
    "    # Create Movie node and Director node with DIRECTED relationship\n",
    "    query_create_movie_and_director = \"\"\"\n",
    "    MERGE (m:Movie {\n",
    "        original_title: $original_title,\n",
    "        release_date: $release_date,\n",
    "        popularity: $popularity\n",
    "    })\n",
    "    MERGE (d:Director {name: $director})\n",
    "    MERGE (d)-[:DIRECTED]->(m)\n",
    "    \"\"\"\n",
    "    parameters = {\n",
    "        \"original_title\": row['original_title'],\n",
    "        \"director\": row['director'],\n",
    "        \"release_date\": row['release_date'],\n",
    "        \"popularity\": row['popularity']\n",
    "    }\n",
    "    session.run(query_create_movie_and_director, parameters)\n",
    "\n",
    "     # Create Actor nodes and ACTED_IN relationships\n",
    "    query_create_actor = \"\"\"\n",
    "    MERGE (a:Actor {name: $actor})\n",
    "    WITH a\n",
    "    MATCH (m:Movie {original_title: $original_title, release_date: $release_date, popularity: $popularity})\n",
    "    MERGE (a)-[:ACTED_IN]->(m)\n",
    "    \"\"\"\n",
    "    for actor in row['cast']:\n",
    "        parameters_actor = {\n",
    "            \"original_title\": row['original_title'],\n",
    "            \"director\": row['director'],\n",
    "            \"release_date\": row['release_date'],\n",
    "            \"popularity\": row['popularity'],\n",
    "            \"actor\": actor\n",
    "        }\n",
    "        session.run(query_create_actor, parameters_actor)\n",
    "\n",
    "    # Create Genre nodes and IN_GENRE relationships\n",
    "    query_create_genre = \"\"\"\n",
    "    MERGE (g:Genre {name: $genre})\n",
    "    WITH g\n",
    "    MATCH (m:Movie {original_title: $original_title, release_date: $release_date, popularity: $popularity})\n",
    "    MERGE (m)-[:IN_GENRE]->(g)\n",
    "    \"\"\"\n",
    "    for genre in row['genres']:\n",
    "        parameters_genre = {\n",
    "            \"original_title\": row['original_title'],\n",
    "            \"director\": row['director'],\n",
    "            \"release_date\": row['release_date'],\n",
    "            \"popularity\": row['popularity'],\n",
    "            \"genre\": genre\n",
    "        }\n",
    "        session.run(query_create_genre, parameters_genre)\n",
    "\n",
    "        \n",
    "# Close the session\n",
    "session.close()\n",
    "\n",
    "# Close the Neo4j connection\n",
    "graph.close()"
   ]
  }
 ],
 "metadata": {
  "kernelspec": {
   "display_name": "datamining",
   "language": "python",
   "name": "python3"
  },
  "language_info": {
   "codemirror_mode": {
    "name": "ipython",
    "version": 3
   },
   "file_extension": ".py",
   "mimetype": "text/x-python",
   "name": "python",
   "nbconvert_exporter": "python",
   "pygments_lexer": "ipython3",
   "version": "3.9.16"
  }
 },
 "nbformat": 4,
 "nbformat_minor": 2
}
