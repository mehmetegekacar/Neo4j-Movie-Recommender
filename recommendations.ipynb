{
 "cells": [
  {
   "cell_type": "code",
   "execution_count": 46,
   "metadata": {},
   "outputs": [],
   "source": [
    "from neo4j import GraphDatabase\n",
    "from py2neo import Graph\n",
    "import pandas as pd\n",
    "import numpy as np"
   ]
  },
  {
   "cell_type": "code",
   "execution_count": 47,
   "metadata": {},
   "outputs": [],
   "source": [
    "uri=\"neo4j+s://1c8f07f5.databases.neo4j.io\"\n",
    "username=\"neo4j\"\n",
    "password=\"uycJUUxlA1SDUncKIgImCp_DT8hASOiqSQ-V7pnLRCY\"\n",
    "graph = GraphDatabase.driver(uri, auth=(username, password))"
   ]
  },
  {
   "cell_type": "code",
   "execution_count": 48,
   "metadata": {},
   "outputs": [],
   "source": [
    "ratings_test = pd.read_csv('data\\\\ratings_test.csv')\n",
    "user_ids = ratings_test['userId'].unique()"
   ]
  },
  {
   "cell_type": "code",
   "execution_count": 49,
   "metadata": {},
   "outputs": [],
   "source": [
    "def make_recommendations_collaborative_filtering(id, uri, username, password):\n",
    "    graph = GraphDatabase.driver(uri, auth=(username, password))\n",
    "    # User ID for whom you want to get recommendations\n",
    "    target_user_id = id\n",
    "\n",
    "    # Create a session\n",
    "    with graph.session() as session:\n",
    "        # Execute the Cypher query for recommendations\n",
    "        query = \"\"\"\n",
    "        MATCH (targetUser:User {id: $target_user_id})-[:watched]->(ratedMovie:Movie)<-[:watched]-(similarUser:User)-[:watched]->(recommendedMovie:Movie)\n",
    "        WHERE NOT (targetUser)-[:watched]->(recommendedMovie)\n",
    "        WITH recommendedMovie, AVG(similarUser.popularity) AS predictedPopularity\n",
    "        RETURN recommendedMovie, predictedPopularity\n",
    "        ORDER BY predictedPopularity DESC\n",
    "        LIMIT 20\n",
    "        \"\"\"\n",
    "        result = session.run(query, target_user_id=target_user_id)\n",
    "\n",
    "        liste = []\n",
    "        # Process the result and print or use the recommendations\n",
    "        for record in result:\n",
    "            recommended_movie = record[\"recommendedMovie\"]\n",
    "            liste.append(recommended_movie[\"original_title\"])\n",
    "\n",
    "    # Close the Neo4j connection (not necessary with 'with' statement)\n",
    "    graph.close()\n",
    "    \n",
    "    return liste"
   ]
  },
  {
   "cell_type": "code",
   "execution_count": 50,
   "metadata": {},
   "outputs": [],
   "source": [
    "def make_recommendations_collaborative_popularitybased(id, uri, username, password):\n",
    "    graph = GraphDatabase.driver(uri, auth=(username, password))\n",
    "    # User ID for whom you want to get recommendations\n",
    "    target_user_id = id\n",
    "\n",
    "    # Create a session\n",
    "    with graph.session() as session:\n",
    "        # Execute the Cypher query for recommendations\n",
    "        query = \"\"\"\n",
    "        MATCH (targetUser:User {id: $target_user_id})-[:watched]->(ratedMovie:Movie)<-[:watched]-(similarUser:User)-[:watched]->(recommendedMovie:Movie)\n",
    "        WHERE NOT (targetUser)-[:watched]->(recommendedMovie)\n",
    "        WITH recommendedMovie\n",
    "        order by recommendedMovie.popularity desc\n",
    "        RETURN distinct recommendedMovie\n",
    "        LIMIT 20\n",
    "        \"\"\"\n",
    "        result = session.run(query, target_user_id=target_user_id)\n",
    "\n",
    "        liste = []\n",
    "        # Process the result and print or use the recommendations\n",
    "        for record in result:\n",
    "            recommended_movie = record[\"recommendedMovie\"]\n",
    "            liste.append(recommended_movie[\"original_title\"])\n",
    "\n",
    "    # Close the Neo4j connection (not necessary with 'with' statement)\n",
    "    graph.close()\n",
    "    \n",
    "    return liste"
   ]
  },
  {
   "cell_type": "code",
   "execution_count": 51,
   "metadata": {},
   "outputs": [],
   "source": [
    "def make_recommendations_genre(id, uri, username, password):\n",
    "    graph = GraphDatabase.driver(uri, auth=(username, password))\n",
    "    # User ID for whom you want to get recommendations\n",
    "    target_user_id = id\n",
    "\n",
    "    # Create a session\n",
    "    with graph.session() as session:\n",
    "        # Execute the Cypher query for recommendations\n",
    "        query = \"\"\"\n",
    "        MATCH (targetUser:User {id: $target_user_id})-[:watched]->(:Movie)-[:IN_GENRE]->(favoriteGenre:Genre)\n",
    "        WITH targetUser, favoriteGenre, COUNT(*) AS genreCount\n",
    "        ORDER BY genreCount DESC\n",
    "        WITH targetUser, COLLECT(favoriteGenre)[0] AS favoriteGenre\n",
    "        MATCH (recommendedMovie:Movie)-[:IN_GENRE]->(favoriteGenre)\n",
    "        WHERE NOT (targetUser)-[:watched]->(recommendedMovie)\n",
    "        WITH recommendedMovie\n",
    "        ORDER BY recommendedMovie.popularity DESC\n",
    "        RETURN recommendedMovie, recommendedMovie.popularity\n",
    "        LIMIT 20;\n",
    "        \"\"\"\n",
    "        result = session.run(query, target_user_id=target_user_id)\n",
    "\n",
    "        liste = []\n",
    "        # Process the result and print or use the recommendations\n",
    "        for record in result:\n",
    "            recommended_movie = record[\"recommendedMovie\"]\n",
    "            liste.append(recommended_movie[\"original_title\"])\n",
    "\n",
    "    # Close the Neo4j connection (not necessary with 'with' statement)\n",
    "    graph.close()\n",
    "    \n",
    "    return liste"
   ]
  },
  {
   "cell_type": "code",
   "execution_count": 52,
   "metadata": {},
   "outputs": [],
   "source": [
    "def make_recommendations_mostsimilar_knn(id, uri, username, password):\n",
    "    graph = GraphDatabase.driver(uri, auth=(username, password))\n",
    "    # User ID for whom you want to get recommendations\n",
    "    target_user_id = id\n",
    "\n",
    "    # Create a session\n",
    "    with graph.session() as session:\n",
    "        # Execute the Cypher query for recommendations\n",
    "        query = \"\"\"\n",
    "        MATCH (targetUser:User {id: $target_user_id})-[:watched]->(commonMovie:Movie)<-[:watched]-(otherUser:User)-[:watched]->(m:Movie)\n",
    "        WHERE NOT (m)<-[:watched]-(targetUser)\n",
    "        WITH otherUser, COLLECT(DISTINCT m) AS commonMovies\n",
    "        ORDER BY SIZE(commonMovies) DESC\n",
    "        LIMIT 100\n",
    "\n",
    "        UNWIND commonMovies AS commonMovie\n",
    "        MATCH (otherUser:User)-[:watched]->(commonMovie)\n",
    "        WITH commonMovie, COUNT(otherUser) AS userCount\n",
    "        ORDER BY userCount DESC\n",
    "        LIMIT 20\n",
    "\n",
    "        RETURN commonMovie;\n",
    "        \"\"\"\n",
    "        result = session.run(query, target_user_id=target_user_id)\n",
    "\n",
    "        liste = []\n",
    "        # Process the result and print or use the recommendations\n",
    "        for record in result:\n",
    "            recommended_movie = record[\"commonMovie\"]\n",
    "            liste.append(recommended_movie[\"original_title\"])\n",
    "\n",
    "    # Close the Neo4j connection (not necessary with 'with' statement)\n",
    "    graph.close()\n",
    "    \n",
    "    return liste"
   ]
  },
  {
   "cell_type": "code",
   "execution_count": 59,
   "metadata": {},
   "outputs": [],
   "source": [
    "def make_recommendations_favoritedirector(id, uri, username, password):\n",
    "    graph = GraphDatabase.driver(uri, auth=(username, password))\n",
    "    # User ID for whom you want to get recommendations\n",
    "    target_user_id = id\n",
    "\n",
    "    # Create a session\n",
    "    with graph.session() as session:\n",
    "        # Execute the Cypher query for recommendations\n",
    "        query = \"\"\"\n",
    "        MATCH (targetUser:User {id: $target_user_id})-[:watched]->(commonMovie:Movie)<-[:DIRECTED]-(directors:Director)\n",
    "        WITH targetUser, directors, COUNT(directors) AS dirCount\n",
    "        ORDER BY dirCount DESC\n",
    "        LIMIT 5\n",
    "\n",
    "        unwind dirCount as dircount\n",
    "        match (m)<-[:DIRECTED]-(directors)\n",
    "        return m\n",
    "        limit 20\n",
    "        \"\"\"\n",
    "        result = session.run(query, target_user_id=target_user_id)\n",
    "\n",
    "        liste = []\n",
    "        # Process the result and print or use the recommendations\n",
    "        for record in result:\n",
    "            recommended_movie = record[\"m\"]\n",
    "            liste.append(recommended_movie[\"original_title\"])\n",
    "\n",
    "    # Close the Neo4j connection (not necessary with 'with' statement)\n",
    "    graph.close()\n",
    "    \n",
    "    return liste"
   ]
  },
  {
   "cell_type": "code",
   "execution_count": 61,
   "metadata": {},
   "outputs": [],
   "source": [
    "def make_recommendations_favoriteActor(id, uri, username, password):\n",
    "    graph = GraphDatabase.driver(uri, auth=(username, password))\n",
    "    # User ID for whom you want to get recommendations\n",
    "    target_user_id = id\n",
    "\n",
    "    # Create a session\n",
    "    with graph.session() as session:\n",
    "        # Execute the Cypher query for recommendations\n",
    "        query = \"\"\"\n",
    "        MATCH (targetUser:User {id: $target_user_id})-[:watched]->(commonMovie:Movie)<-[:ACTED_IN]-(directors:Actor)\n",
    "        WITH targetUser, directors, COUNT(directors) AS dirCount\n",
    "        ORDER BY dirCount DESC\n",
    "        LIMIT 5\n",
    "\n",
    "        unwind dirCount as dircount\n",
    "        match (m)<-[:ACTED_IN]-(directors)\n",
    "        return m\n",
    "        limit 20\n",
    "        \"\"\"\n",
    "        result = session.run(query, target_user_id=target_user_id)\n",
    "\n",
    "        liste = []\n",
    "        # Process the result and print or use the recommendations\n",
    "        for record in result:\n",
    "            recommended_movie = record[\"m\"]\n",
    "            liste.append(recommended_movie[\"original_title\"])\n",
    "\n",
    "    # Close the Neo4j connection (not necessary with 'with' statement)\n",
    "    graph.close()\n",
    "    \n",
    "    return liste"
   ]
  },
  {
   "cell_type": "code",
   "execution_count": 54,
   "metadata": {},
   "outputs": [],
   "source": [
    "def precision_recall_f1_at_k(recommended_list, actual_list, k):\n",
    "    # Take only the top-k recommended items\n",
    "    recommended_list = recommended_list[:k]\n",
    "    \n",
    "    # Calculate the number of overlapping items between recommended and actual lists\n",
    "    intersection = set(recommended_list) & set(actual_list)\n",
    "    \n",
    "    # Calculate precision\n",
    "    precision = len(intersection) / len(recommended_list) if len(recommended_list) > 0 else 0.0\n",
    "    \n",
    "    # Calculate recall\n",
    "    recall = len(intersection) / len(actual_list) if len(actual_list) > 0 else 0.0\n",
    "    \n",
    "    # Calculate F1 score\n",
    "    f1 = (2 * precision * recall) / (precision + recall) if (precision + recall) > 0 else 0.0\n",
    "    \n",
    "    return [precision, recall, f1]"
   ]
  },
  {
   "cell_type": "code",
   "execution_count": 55,
   "metadata": {},
   "outputs": [
    {
     "name": "stdout",
     "output_type": "stream",
     "text": [
      "[0.3, 0.061855670103092786, 0.10256410256410256]\n",
      "[0.15, 0.023076923076923078, 0.04]\n",
      "[0.25, 0.06666666666666667, 0.10526315789473685]\n",
      "[0.2, 0.020618556701030927, 0.037383177570093455]\n",
      "[0.35, 0.11475409836065574, 0.1728395061728395]\n",
      "[0.15, 0.025, 0.04285714285714286]\n",
      "[0.25, 0.056179775280898875, 0.09174311926605504]\n",
      "[0.3, 0.09836065573770492, 0.14814814814814814]\n",
      "[0.35, 0.023178807947019868, 0.043478260869565216]\n",
      "[0.2, 0.038834951456310676, 0.06504065040650406]\n",
      "average precision is 0.25, average recall is 0.05285261053303035, average f1 is 0.08493172657491878\n"
     ]
    }
   ],
   "source": [
    "selected_users = [19, 182, 219, 274, 294, 480, 489, 597, 599, 600]\n",
    "\n",
    "liste = []\n",
    "for i in selected_users:\n",
    "    recommended = make_recommendations_collaborative_filtering(id=i, uri=uri, username=username, password=password)\n",
    "    liste.append(recommended)\n",
    "\n",
    "array = []\n",
    "for index, i in enumerate(selected_users):\n",
    "    real = ratings_test[ratings_test['userId'] == i]['movieTitle'].tolist()\n",
    "    reccomendation = liste[index]\n",
    "    array.append(precision_recall_f1_at_k(reccomendation, real, 20))\n",
    "    print(precision_recall_f1_at_k(reccomendation, real, 20))\n",
    "\n",
    "array = np.array(array)\n",
    "print(\"average precision is \" + str(array[:,0].mean()) +\", average recall is \"+ str(array[:,1].mean())+ \", average f1 is \" + str(array[:,2].mean()))"
   ]
  },
  {
   "cell_type": "code",
   "execution_count": 56,
   "metadata": {},
   "outputs": [
    {
     "name": "stdout",
     "output_type": "stream",
     "text": [
      "[0.0, 0.0, 0.0]\n",
      "[0.0, 0.0, 0.0]\n",
      "[0.0, 0.0, 0.0]\n",
      "[0.1, 0.010309278350515464, 0.018691588785046728]\n",
      "[0.0, 0.0, 0.0]\n",
      "[0.0, 0.0, 0.0]\n",
      "[0.0, 0.0, 0.0]\n",
      "[0.0, 0.0, 0.0]\n",
      "[0.0, 0.0, 0.0]\n",
      "[0.0, 0.0, 0.0]\n",
      "average precision is 0.01, average recall is 0.0010309278350515464, average f1 is 0.0018691588785046728\n"
     ]
    }
   ],
   "source": [
    "selected_users = [19, 182, 219, 274, 294, 480, 489, 597, 599, 600]\n",
    "\n",
    "liste = []\n",
    "for i in selected_users:\n",
    "    recommended = make_recommendations_collaborative_popularitybased(id=i, uri=uri, username=username, password=password)\n",
    "    liste.append(recommended)\n",
    "\n",
    "array = []\n",
    "for index, i in enumerate(selected_users):\n",
    "    real = ratings_test[ratings_test['userId'] == i]['movieTitle'].tolist()\n",
    "    reccomendation = liste[index]\n",
    "    array.append(precision_recall_f1_at_k(reccomendation, real, 20))\n",
    "    print(precision_recall_f1_at_k(reccomendation, real, 20))\n",
    "\n",
    "array = np.array(array)\n",
    "print(\"average precision is \" + str(array[:,0].mean()) +\", average recall is \"+ str(array[:,1].mean())+ \", average f1 is \" + str(array[:,2].mean()))"
   ]
  },
  {
   "cell_type": "code",
   "execution_count": 57,
   "metadata": {},
   "outputs": [
    {
     "name": "stdout",
     "output_type": "stream",
     "text": [
      "[0.0, 0.0, 0.0]\n",
      "[0.05, 0.007692307692307693, 0.013333333333333334]\n",
      "[0.0, 0.0, 0.0]\n",
      "[0.1, 0.010309278350515464, 0.018691588785046728]\n",
      "[0.0, 0.0, 0.0]\n",
      "[0.0, 0.0, 0.0]\n",
      "[0.05, 0.011235955056179775, 0.01834862385321101]\n",
      "[0.0, 0.0, 0.0]\n",
      "[0.0, 0.0, 0.0]\n",
      "[0.05, 0.009708737864077669, 0.016260162601626015]\n",
      "average precision is 0.025, average recall is 0.0038946278963080602, average f1 is 0.0066633708573217085\n"
     ]
    }
   ],
   "source": [
    "selected_users = [19, 182, 219, 274, 294, 480, 489, 597, 599, 600]\n",
    "\n",
    "liste = []\n",
    "for i in selected_users:\n",
    "    recommended = make_recommendations_genre(id=i, uri=uri, username=username, password=password)\n",
    "    liste.append(recommended)\n",
    "\n",
    "array = []\n",
    "for index, i in enumerate(selected_users):\n",
    "    real = ratings_test[ratings_test['userId'] == i]['movieTitle'].tolist()\n",
    "    reccomendation = liste[index]\n",
    "    array.append(precision_recall_f1_at_k(reccomendation, real, 20))\n",
    "    print(precision_recall_f1_at_k(reccomendation, real, 20))\n",
    "\n",
    "array = np.array(array)\n",
    "print(\"average precision is \" + str(array[:,0].mean()) +\", average recall is \"+ str(array[:,1].mean())+ \", average f1 is \" + str(array[:,2].mean()))"
   ]
  },
  {
   "cell_type": "code",
   "execution_count": 60,
   "metadata": {},
   "outputs": [
    {
     "name": "stdout",
     "output_type": "stream",
     "text": [
      "[0.05, 0.010309278350515464, 0.017094017094017096]\n",
      "[0.05, 0.007692307692307693, 0.013333333333333334]\n",
      "[0.1, 0.02666666666666667, 0.042105263157894736]\n",
      "[0.15, 0.015463917525773196, 0.028037383177570093]\n",
      "[0.05, 0.01639344262295082, 0.02469135802469136]\n",
      "[0.0, 0.0, 0.0]\n",
      "[0.05, 0.011235955056179775, 0.01834862385321101]\n",
      "[0.0, 0.0, 0.0]\n",
      "[0.0, 0.0, 0.0]\n",
      "[0.0, 0.0, 0.0]\n",
      "average precision is 0.045, average recall is 0.008776156791439362, average f1 is 0.014360997864071762\n"
     ]
    }
   ],
   "source": [
    "selected_users = [19, 182, 219, 274, 294, 480, 489, 597, 599, 600]\n",
    "\n",
    "liste = []\n",
    "for i in selected_users:\n",
    "    recommended = make_recommendations_favoritedirector(id=i, uri=uri, username=username, password=password)\n",
    "    liste.append(recommended)\n",
    "\n",
    "array = []\n",
    "for index, i in enumerate(selected_users):\n",
    "    real = ratings_test[ratings_test['userId'] == i]['movieTitle'].tolist()\n",
    "    reccomendation = liste[index]\n",
    "    array.append(precision_recall_f1_at_k(reccomendation, real, 20))\n",
    "    print(precision_recall_f1_at_k(reccomendation, real, 20))\n",
    "\n",
    "array = np.array(array)\n",
    "print(\"average precision is \" + str(array[:,0].mean()) +\", average recall is \"+ str(array[:,1].mean())+ \", average f1 is \" + str(array[:,2].mean()))"
   ]
  },
  {
   "cell_type": "code",
   "execution_count": 62,
   "metadata": {},
   "outputs": [
    {
     "name": "stdout",
     "output_type": "stream",
     "text": [
      "[0.0, 0.0, 0.0]\n",
      "[0.0, 0.0, 0.0]\n",
      "[0.0, 0.0, 0.0]\n",
      "[0.05, 0.005154639175257732, 0.009345794392523364]\n",
      "[0.0, 0.0, 0.0]\n",
      "[0.0, 0.0, 0.0]\n",
      "[0.05, 0.011235955056179775, 0.01834862385321101]\n",
      "[0.0, 0.0, 0.0]\n",
      "[0.0, 0.0, 0.0]\n",
      "[0.0, 0.0, 0.0]\n",
      "average precision is 0.01, average recall is 0.0016390594231437505, average f1 is 0.0027694418245734374\n"
     ]
    }
   ],
   "source": [
    "selected_users = [19, 182, 219, 274, 294, 480, 489, 597, 599, 600]\n",
    "\n",
    "liste = []\n",
    "for i in selected_users:\n",
    "    recommended = make_recommendations_favoriteActor(id=i, uri=uri, username=username, password=password)\n",
    "    liste.append(recommended)\n",
    "\n",
    "array = []\n",
    "for index, i in enumerate(selected_users):\n",
    "    real = ratings_test[ratings_test['userId'] == i]['movieTitle'].tolist()\n",
    "    reccomendation = liste[index]\n",
    "    array.append(precision_recall_f1_at_k(reccomendation, real, 20))\n",
    "    print(precision_recall_f1_at_k(reccomendation, real, 20))\n",
    "\n",
    "array = np.array(array)\n",
    "print(\"average precision is \" + str(array[:,0].mean()) +\", average recall is \"+ str(array[:,1].mean())+ \", average f1 is \" + str(array[:,2].mean()))"
   ]
  },
  {
   "cell_type": "code",
   "execution_count": null,
   "metadata": {},
   "outputs": [
    {
     "name": "stdout",
     "output_type": "stream",
     "text": [
      "[0.25, 0.05154639175257732, 0.08547008547008547]\n",
      "[0.4, 0.06153846153846154, 0.10666666666666667]\n",
      "[0.35, 0.09333333333333334, 0.14736842105263157]\n",
      "[0.4, 0.041237113402061855, 0.07476635514018691]\n",
      "[0.1, 0.03278688524590164, 0.04938271604938272]\n",
      "[0.65, 0.10833333333333334, 0.18571428571428572]\n",
      "[0.5, 0.11235955056179775, 0.18348623853211007]\n",
      "[0.3, 0.09836065573770492, 0.14814814814814814]\n",
      "[0.0, 0.0, 0.0]\n",
      "[0.55, 0.10679611650485436, 0.17886178861788618]\n",
      "average precision is 0.35, average recall is 0.07062918414100261, average f1 is 0.11598647053913835\n"
     ]
    }
   ],
   "source": [
    "selected_users = [19, 182, 219, 274, 294, 480, 489, 597, 599, 600]\n",
    "\n",
    "liste = []\n",
    "for i in selected_users:\n",
    "    recommended = make_recommendations_mostsimilar_knn(id=i, uri=uri, username=username, password=password)\n",
    "    liste.append(recommended)\n",
    "\n",
    "array = []\n",
    "for index, i in enumerate(selected_users):\n",
    "    real = ratings_test[ratings_test['userId'] == i]['movieTitle'].tolist()\n",
    "    reccomendation = liste[index]\n",
    "    array.append(precision_recall_f1_at_k(reccomendation, real, 20))\n",
    "    print(precision_recall_f1_at_k(reccomendation, real, 20))\n",
    "\n",
    "array = np.array(array)\n",
    "print(\"average precision is \" + str(array[:,0].mean()) +\", average recall is \"+ str(array[:,1].mean())+ \", average f1 is \" + str(array[:,2].mean()))"
   ]
  }
 ],
 "metadata": {
  "kernelspec": {
   "display_name": "datamining",
   "language": "python",
   "name": "python3"
  },
  "language_info": {
   "codemirror_mode": {
    "name": "ipython",
    "version": 3
   },
   "file_extension": ".py",
   "mimetype": "text/x-python",
   "name": "python",
   "nbconvert_exporter": "python",
   "pygments_lexer": "ipython3",
   "version": "3.9.16"
  }
 },
 "nbformat": 4,
 "nbformat_minor": 2
}
