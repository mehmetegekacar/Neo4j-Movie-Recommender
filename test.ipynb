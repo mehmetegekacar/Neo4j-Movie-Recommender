{
 "cells": [
  {
   "cell_type": "code",
   "execution_count": 1,
   "metadata": {},
   "outputs": [],
   "source": [
    "from neo4j import GraphDatabase\n",
    "from py2neo import Graph\n",
    "import pandas as pd\n",
    "import numpy as np\n",
    "from Functions.functions_for_based_on_atttributes import *\n",
    "import random\n",
    "from Functions.matcheditdistance import *\n",
    "import time\n",
    "from Functions.functions import *"
   ]
  },
  {
   "cell_type": "code",
   "execution_count": 2,
   "metadata": {},
   "outputs": [],
   "source": [
    "df = pd.read_csv('data\\\\tmdb_movies_data.csv')\n",
    "df = df[['original_title', 'release_date', 'genres', 'director', 'cast']]\n",
    "df[\"cast\"] = df[\"cast\"].apply(lambda x: str(x))\n",
    "df[\"cast\"] = df[\"cast\"].apply(lambda x: x.split(\"|\"))\n",
    "df[\"genres\"] = df[\"genres\"].apply(lambda x: str(x))\n",
    "df[\"genres\"] = df[\"genres\"].apply(lambda x: x.split(\"|\"))\n",
    "df = df[[\"original_title\", \"director\",\"cast\", \"genres\", \"release_date\"]]\n",
    "df['release_date'] = pd.to_datetime(df['release_date'], errors='coerce')\n",
    "df = df.dropna()"
   ]
  },
  {
   "cell_type": "code",
   "execution_count": 3,
   "metadata": {},
   "outputs": [],
   "source": [
    "df['release_date'] = pd.to_datetime(df['release_date'], errors='coerce')\n"
   ]
  },
  {
   "cell_type": "code",
   "execution_count": 12,
   "metadata": {},
   "outputs": [],
   "source": [
    "def check_date_interval(row, start_date, end_date):\n",
    "    release_date = pd.to_datetime(row['release_date'], errors='coerce')\n",
    "    return 1 if start_date <= release_date <= end_date else 0"
   ]
  },
  {
   "cell_type": "code",
   "execution_count": 16,
   "metadata": {},
   "outputs": [],
   "source": [
    "start_date = pd.to_datetime('2001-01-01')\n",
    "end_date = pd.to_datetime('2002-01-01')\n",
    "\n",
    "# Apply the function to create a new column 'is_in_selected_date'\n",
    "df['is_in_selected_date'] = df.apply(lambda row: check_date_interval(row, start_date, end_date), axis=1)"
   ]
  },
  {
   "cell_type": "code",
   "execution_count": 17,
   "metadata": {},
   "outputs": [
    {
     "data": {
      "text/plain": [
       "250"
      ]
     },
     "execution_count": 17,
     "metadata": {},
     "output_type": "execute_result"
    }
   ],
   "source": [
    "df['is_in_selected_date'].sum()"
   ]
  },
  {
   "cell_type": "code",
   "execution_count": 8,
   "metadata": {},
   "outputs": [],
   "source": [
    "start_date = pd.to_datetime('1980-01-01')\n",
    "end_date = pd.to_datetime('1999-01-01')\n",
    "\n",
    "# Filter rows where release_date is within the specified interval\n",
    "filtered_df = df[(df['release_date'] >= start_date) & (df['release_date'] <= end_date)]"
   ]
  },
  {
   "cell_type": "code",
   "execution_count": 9,
   "metadata": {},
   "outputs": [
    {
     "data": {
      "text/html": [
       "<div>\n",
       "<style scoped>\n",
       "    .dataframe tbody tr th:only-of-type {\n",
       "        vertical-align: middle;\n",
       "    }\n",
       "\n",
       "    .dataframe tbody tr th {\n",
       "        vertical-align: top;\n",
       "    }\n",
       "\n",
       "    .dataframe thead th {\n",
       "        text-align: right;\n",
       "    }\n",
       "</style>\n",
       "<table border=\"1\" class=\"dataframe\">\n",
       "  <thead>\n",
       "    <tr style=\"text-align: right;\">\n",
       "      <th></th>\n",
       "      <th>original_title</th>\n",
       "      <th>director</th>\n",
       "      <th>cast</th>\n",
       "      <th>genres</th>\n",
       "      <th>release_date</th>\n",
       "    </tr>\n",
       "  </thead>\n",
       "  <tbody>\n",
       "    <tr>\n",
       "      <th>2542</th>\n",
       "      <td>Rogue Trader</td>\n",
       "      <td>James Dearden</td>\n",
       "      <td>[Ewan McGregor, Anna Friel, Yves Beneyton, Bet...</td>\n",
       "      <td>[Drama, Foreign]</td>\n",
       "      <td>1999-01-01</td>\n",
       "    </tr>\n",
       "    <tr>\n",
       "      <th>2612</th>\n",
       "      <td>Komodo</td>\n",
       "      <td>Michael Lantieri</td>\n",
       "      <td>[Kevin Zegers, Jill Hennessy, Billy Burke]</td>\n",
       "      <td>[Adventure, Horror, Thriller]</td>\n",
       "      <td>1999-01-01</td>\n",
       "    </tr>\n",
       "    <tr>\n",
       "      <th>2625</th>\n",
       "      <td>Sabrina, Down Under</td>\n",
       "      <td>Kenneth R. Koch</td>\n",
       "      <td>[Melissa Joan Hart, Tara Strong, Scott Michael...</td>\n",
       "      <td>[Comedy, Fantasy]</td>\n",
       "      <td>1999-01-01</td>\n",
       "    </tr>\n",
       "    <tr>\n",
       "      <th>2631</th>\n",
       "      <td>Mulholland Dr.</td>\n",
       "      <td>David Lynch</td>\n",
       "      <td>[Justin Theroux, Naomi Watts, Laura Harring, A...</td>\n",
       "      <td>[TV Movie, Drama, Mystery, Romance]</td>\n",
       "      <td>1999-01-01</td>\n",
       "    </tr>\n",
       "    <tr>\n",
       "      <th>4177</th>\n",
       "      <td>Pulp Fiction</td>\n",
       "      <td>Quentin Tarantino</td>\n",
       "      <td>[John Travolta, Samuel L. Jackson, Uma Thurman...</td>\n",
       "      <td>[Thriller, Crime]</td>\n",
       "      <td>1994-10-14</td>\n",
       "    </tr>\n",
       "    <tr>\n",
       "      <th>...</th>\n",
       "      <td>...</td>\n",
       "      <td>...</td>\n",
       "      <td>...</td>\n",
       "      <td>...</td>\n",
       "      <td>...</td>\n",
       "    </tr>\n",
       "    <tr>\n",
       "      <th>10588</th>\n",
       "      <td>Vamp</td>\n",
       "      <td>Richard Wenk</td>\n",
       "      <td>[Chris Makepeace, Sandy Baron, Robert Rusler, ...</td>\n",
       "      <td>[Comedy, Horror]</td>\n",
       "      <td>1986-07-18</td>\n",
       "    </tr>\n",
       "    <tr>\n",
       "      <th>10589</th>\n",
       "      <td>Manhunter</td>\n",
       "      <td>Michael Mann</td>\n",
       "      <td>[William Petersen, Kim Greist, Dennis Farina, ...</td>\n",
       "      <td>[Crime, Horror, Thriller]</td>\n",
       "      <td>1986-08-14</td>\n",
       "    </tr>\n",
       "    <tr>\n",
       "      <th>10590</th>\n",
       "      <td>TerrorVision</td>\n",
       "      <td>Ted Nicolaou</td>\n",
       "      <td>[Diane Franklin, Gerrit Graham, Mary Woronov, ...</td>\n",
       "      <td>[Horror, Science Fiction, Thriller]</td>\n",
       "      <td>1986-02-14</td>\n",
       "    </tr>\n",
       "    <tr>\n",
       "      <th>10591</th>\n",
       "      <td>Lady Jane</td>\n",
       "      <td>Trevor Nunn</td>\n",
       "      <td>[Helena Bonham Carter, Cary Elwes, John Wood, ...</td>\n",
       "      <td>[Drama, Romance, History]</td>\n",
       "      <td>1986-02-07</td>\n",
       "    </tr>\n",
       "    <tr>\n",
       "      <th>10592</th>\n",
       "      <td>Yuppies 2</td>\n",
       "      <td>Enrico Oldoini</td>\n",
       "      <td>[Massimo Boldi, Jerry CalÃ , Christian De Sica...</td>\n",
       "      <td>[Comedy]</td>\n",
       "      <td>1986-01-01</td>\n",
       "    </tr>\n",
       "  </tbody>\n",
       "</table>\n",
       "<p>2604 rows × 5 columns</p>\n",
       "</div>"
      ],
      "text/plain": [
       "            original_title           director  \\\n",
       "2542          Rogue Trader      James Dearden   \n",
       "2612                Komodo   Michael Lantieri   \n",
       "2625   Sabrina, Down Under    Kenneth R. Koch   \n",
       "2631        Mulholland Dr.        David Lynch   \n",
       "4177          Pulp Fiction  Quentin Tarantino   \n",
       "...                    ...                ...   \n",
       "10588                 Vamp       Richard Wenk   \n",
       "10589            Manhunter       Michael Mann   \n",
       "10590         TerrorVision       Ted Nicolaou   \n",
       "10591            Lady Jane        Trevor Nunn   \n",
       "10592            Yuppies 2     Enrico Oldoini   \n",
       "\n",
       "                                                    cast  \\\n",
       "2542   [Ewan McGregor, Anna Friel, Yves Beneyton, Bet...   \n",
       "2612          [Kevin Zegers, Jill Hennessy, Billy Burke]   \n",
       "2625   [Melissa Joan Hart, Tara Strong, Scott Michael...   \n",
       "2631   [Justin Theroux, Naomi Watts, Laura Harring, A...   \n",
       "4177   [John Travolta, Samuel L. Jackson, Uma Thurman...   \n",
       "...                                                  ...   \n",
       "10588  [Chris Makepeace, Sandy Baron, Robert Rusler, ...   \n",
       "10589  [William Petersen, Kim Greist, Dennis Farina, ...   \n",
       "10590  [Diane Franklin, Gerrit Graham, Mary Woronov, ...   \n",
       "10591  [Helena Bonham Carter, Cary Elwes, John Wood, ...   \n",
       "10592  [Massimo Boldi, Jerry CalÃ , Christian De Sica...   \n",
       "\n",
       "                                    genres release_date  \n",
       "2542                      [Drama, Foreign]   1999-01-01  \n",
       "2612         [Adventure, Horror, Thriller]   1999-01-01  \n",
       "2625                     [Comedy, Fantasy]   1999-01-01  \n",
       "2631   [TV Movie, Drama, Mystery, Romance]   1999-01-01  \n",
       "4177                     [Thriller, Crime]   1994-10-14  \n",
       "...                                    ...          ...  \n",
       "10588                     [Comedy, Horror]   1986-07-18  \n",
       "10589            [Crime, Horror, Thriller]   1986-08-14  \n",
       "10590  [Horror, Science Fiction, Thriller]   1986-02-14  \n",
       "10591            [Drama, Romance, History]   1986-02-07  \n",
       "10592                             [Comedy]   1986-01-01  \n",
       "\n",
       "[2604 rows x 5 columns]"
      ]
     },
     "execution_count": 9,
     "metadata": {},
     "output_type": "execute_result"
    }
   ],
   "source": [
    "filtered_df"
   ]
  },
  {
   "cell_type": "code",
   "execution_count": null,
   "metadata": {},
   "outputs": [],
   "source": []
  }
 ],
 "metadata": {
  "kernelspec": {
   "display_name": "datamining",
   "language": "python",
   "name": "python3"
  },
  "language_info": {
   "codemirror_mode": {
    "name": "ipython",
    "version": 3
   },
   "file_extension": ".py",
   "mimetype": "text/x-python",
   "name": "python",
   "nbconvert_exporter": "python",
   "pygments_lexer": "ipython3",
   "version": "3.9.16"
  }
 },
 "nbformat": 4,
 "nbformat_minor": 2
}
