{
 "cells": [
  {
   "cell_type": "code",
   "execution_count": 1,
   "metadata": {},
   "outputs": [],
   "source": [
    "from neo4j import GraphDatabase\n",
    "from py2neo import Graph\n",
    "import pandas as pd\n",
    "import numpy as np\n",
    "from Functions.functions import *"
   ]
  },
  {
   "cell_type": "code",
   "execution_count": 2,
   "metadata": {},
   "outputs": [
    {
     "name": "stdout",
     "output_type": "stream",
     "text": [
      "[0.3, 0.061855670103092786, 0.10256410256410256]\n",
      "[0.15, 0.023076923076923078, 0.04]\n",
      "[0.25, 0.06666666666666667, 0.10526315789473685]\n",
      "[0.2, 0.020618556701030927, 0.037383177570093455]\n",
      "[0.35, 0.11475409836065574, 0.1728395061728395]\n",
      "[0.15, 0.025, 0.04285714285714286]\n",
      "[0.25, 0.056179775280898875, 0.09174311926605504]\n",
      "[0.3, 0.09836065573770492, 0.14814814814814814]\n",
      "[0.35, 0.023178807947019868, 0.043478260869565216]\n",
      "[0.2, 0.038834951456310676, 0.06504065040650406]\n",
      "average precision is 0.25, average recall is 0.05285261053303035, average f1 is 0.08493172657491878\n"
     ]
    }
   ],
   "source": [
    "selected_users = [19, 182, 219, 274, 294, 480, 489, 597, 599, 600]\n",
    "\n",
    "liste = []\n",
    "for i in selected_users:\n",
    "    recommended = make_recommendations_collaborative_filtering(id=i, uri=uri, username=username, password=password)\n",
    "    liste.append(recommended)\n",
    "\n",
    "array = []\n",
    "for index, i in enumerate(selected_users):\n",
    "    real = ratings_test[ratings_test['userId'] == i]['movieTitle'].tolist()\n",
    "    reccomendation = liste[index]\n",
    "    array.append(precision_recall_f1_at_k(reccomendation, real, 20))\n",
    "    print(precision_recall_f1_at_k(reccomendation, real, 20))\n",
    "\n",
    "array = np.array(array)\n",
    "print(\"average precision is \" + str(array[:,0].mean()) +\", average recall is \"+ str(array[:,1].mean())+ \", average f1 is \" + str(array[:,2].mean()))"
   ]
  },
  {
   "cell_type": "code",
   "execution_count": 56,
   "metadata": {},
   "outputs": [
    {
     "name": "stdout",
     "output_type": "stream",
     "text": [
      "[0.0, 0.0, 0.0]\n",
      "[0.0, 0.0, 0.0]\n",
      "[0.0, 0.0, 0.0]\n",
      "[0.1, 0.010309278350515464, 0.018691588785046728]\n",
      "[0.0, 0.0, 0.0]\n",
      "[0.0, 0.0, 0.0]\n",
      "[0.0, 0.0, 0.0]\n",
      "[0.0, 0.0, 0.0]\n",
      "[0.0, 0.0, 0.0]\n",
      "[0.0, 0.0, 0.0]\n",
      "average precision is 0.01, average recall is 0.0010309278350515464, average f1 is 0.0018691588785046728\n"
     ]
    }
   ],
   "source": [
    "selected_users = [19, 182, 219, 274, 294, 480, 489, 597, 599, 600]\n",
    "\n",
    "liste = []\n",
    "for i in selected_users:\n",
    "    recommended = make_recommendations_collaborative_popularitybased(id=i, uri=uri, username=username, password=password)\n",
    "    liste.append(recommended)\n",
    "\n",
    "array = []\n",
    "for index, i in enumerate(selected_users):\n",
    "    real = ratings_test[ratings_test['userId'] == i]['movieTitle'].tolist()\n",
    "    reccomendation = liste[index]\n",
    "    array.append(precision_recall_f1_at_k(reccomendation, real, 20))\n",
    "    print(precision_recall_f1_at_k(reccomendation, real, 20))\n",
    "\n",
    "array = np.array(array)\n",
    "print(\"average precision is \" + str(array[:,0].mean()) +\", average recall is \"+ str(array[:,1].mean())+ \", average f1 is \" + str(array[:,2].mean()))"
   ]
  },
  {
   "cell_type": "code",
   "execution_count": 6,
   "metadata": {},
   "outputs": [
    {
     "ename": "NameError",
     "evalue": "name 'make_recommendations_genre' is not defined",
     "output_type": "error",
     "traceback": [
      "\u001b[1;31m---------------------------------------------------------------------------\u001b[0m",
      "\u001b[1;31mNameError\u001b[0m                                 Traceback (most recent call last)",
      "\u001b[1;32mc:\\Users\\mehme\\Desktop\\Neo4j\\recommendations copy.ipynb Cell 6\u001b[0m line \u001b[0;36m5\n\u001b[0;32m      <a href='vscode-notebook-cell:/c%3A/Users/mehme/Desktop/Neo4j/recommendations%20copy.ipynb#X15sZmlsZQ%3D%3D?line=2'>3</a>\u001b[0m liste \u001b[39m=\u001b[39m []\n\u001b[0;32m      <a href='vscode-notebook-cell:/c%3A/Users/mehme/Desktop/Neo4j/recommendations%20copy.ipynb#X15sZmlsZQ%3D%3D?line=3'>4</a>\u001b[0m \u001b[39mfor\u001b[39;00m i \u001b[39min\u001b[39;00m selected_users:\n\u001b[1;32m----> <a href='vscode-notebook-cell:/c%3A/Users/mehme/Desktop/Neo4j/recommendations%20copy.ipynb#X15sZmlsZQ%3D%3D?line=4'>5</a>\u001b[0m     recommended \u001b[39m=\u001b[39m make_recommendations_genre(\u001b[39mid\u001b[39m\u001b[39m=\u001b[39mi, uri\u001b[39m=\u001b[39muri, username\u001b[39m=\u001b[39musername, password\u001b[39m=\u001b[39mpassword)\n\u001b[0;32m      <a href='vscode-notebook-cell:/c%3A/Users/mehme/Desktop/Neo4j/recommendations%20copy.ipynb#X15sZmlsZQ%3D%3D?line=5'>6</a>\u001b[0m     liste\u001b[39m.\u001b[39mappend(recommended)\n\u001b[0;32m      <a href='vscode-notebook-cell:/c%3A/Users/mehme/Desktop/Neo4j/recommendations%20copy.ipynb#X15sZmlsZQ%3D%3D?line=7'>8</a>\u001b[0m array \u001b[39m=\u001b[39m []\n",
      "\u001b[1;31mNameError\u001b[0m: name 'make_recommendations_genre' is not defined"
     ]
    }
   ],
   "source": [
    "selected_users = [19, 182, 219, 274, 294, 480, 489, 597, 599, 600]\n",
    "\n",
    "liste = []\n",
    "for i in selected_users:\n",
    "    recommended = make_recommendations_genre(id=i, uri=uri, username=username, password=password)\n",
    "    liste.append(recommended)\n",
    "\n",
    "array = []\n",
    "for index, i in enumerate(selected_users):\n",
    "    real = ratings_test[ratings_test['userId'] == i]['movieTitle'].tolist()\n",
    "    reccomendation = liste[index]\n",
    "    array.append(precision_recall_f1_at_k(reccomendation, real, 20))\n",
    "    print(precision_recall_f1_at_k(reccomendation, real, 20))\n",
    "\n",
    "array = np.array(array)\n",
    "print(\"average precision is \" + str(array[:,0].mean()) +\", average recall is \"+ str(array[:,1].mean())+ \", average f1 is \" + str(array[:,2].mean()))"
   ]
  },
  {
   "cell_type": "code",
   "execution_count": 60,
   "metadata": {},
   "outputs": [
    {
     "name": "stdout",
     "output_type": "stream",
     "text": [
      "[0.05, 0.010309278350515464, 0.017094017094017096]\n",
      "[0.05, 0.007692307692307693, 0.013333333333333334]\n",
      "[0.1, 0.02666666666666667, 0.042105263157894736]\n",
      "[0.15, 0.015463917525773196, 0.028037383177570093]\n",
      "[0.05, 0.01639344262295082, 0.02469135802469136]\n",
      "[0.0, 0.0, 0.0]\n",
      "[0.05, 0.011235955056179775, 0.01834862385321101]\n",
      "[0.0, 0.0, 0.0]\n",
      "[0.0, 0.0, 0.0]\n",
      "[0.0, 0.0, 0.0]\n",
      "average precision is 0.045, average recall is 0.008776156791439362, average f1 is 0.014360997864071762\n"
     ]
    }
   ],
   "source": [
    "selected_users = [19, 182, 219, 274, 294, 480, 489, 597, 599, 600]\n",
    "\n",
    "liste = []\n",
    "for i in selected_users:\n",
    "    recommended = make_recommendations_favoritedirector(id=i, uri=uri, username=username, password=password)\n",
    "    liste.append(recommended)\n",
    "\n",
    "array = []\n",
    "for index, i in enumerate(selected_users):\n",
    "    real = ratings_test[ratings_test['userId'] == i]['movieTitle'].tolist()\n",
    "    reccomendation = liste[index]\n",
    "    array.append(precision_recall_f1_at_k(reccomendation, real, 20))\n",
    "    print(precision_recall_f1_at_k(reccomendation, real, 20))\n",
    "\n",
    "array = np.array(array)\n",
    "print(\"average precision is \" + str(array[:,0].mean()) +\", average recall is \"+ str(array[:,1].mean())+ \", average f1 is \" + str(array[:,2].mean()))"
   ]
  },
  {
   "cell_type": "code",
   "execution_count": 62,
   "metadata": {},
   "outputs": [
    {
     "name": "stdout",
     "output_type": "stream",
     "text": [
      "[0.0, 0.0, 0.0]\n",
      "[0.0, 0.0, 0.0]\n",
      "[0.0, 0.0, 0.0]\n",
      "[0.05, 0.005154639175257732, 0.009345794392523364]\n",
      "[0.0, 0.0, 0.0]\n",
      "[0.0, 0.0, 0.0]\n",
      "[0.05, 0.011235955056179775, 0.01834862385321101]\n",
      "[0.0, 0.0, 0.0]\n",
      "[0.0, 0.0, 0.0]\n",
      "[0.0, 0.0, 0.0]\n",
      "average precision is 0.01, average recall is 0.0016390594231437505, average f1 is 0.0027694418245734374\n"
     ]
    }
   ],
   "source": [
    "selected_users = [19, 182, 219, 274, 294, 480, 489, 597, 599, 600]\n",
    "\n",
    "liste = []\n",
    "for i in selected_users:\n",
    "    recommended = make_recommendations_favoriteActor(id=i, uri=uri, username=username, password=password)\n",
    "    liste.append(recommended)\n",
    "\n",
    "array = []\n",
    "for index, i in enumerate(selected_users):\n",
    "    real = ratings_test[ratings_test['userId'] == i]['movieTitle'].tolist()\n",
    "    reccomendation = liste[index]\n",
    "    array.append(precision_recall_f1_at_k(reccomendation, real, 20))\n",
    "    print(precision_recall_f1_at_k(reccomendation, real, 20))\n",
    "\n",
    "array = np.array(array)\n",
    "print(\"average precision is \" + str(array[:,0].mean()) +\", average recall is \"+ str(array[:,1].mean())+ \", average f1 is \" + str(array[:,2].mean()))"
   ]
  },
  {
   "cell_type": "code",
   "execution_count": null,
   "metadata": {},
   "outputs": [
    {
     "name": "stdout",
     "output_type": "stream",
     "text": [
      "[0.25, 0.05154639175257732, 0.08547008547008547]\n",
      "[0.4, 0.06153846153846154, 0.10666666666666667]\n",
      "[0.35, 0.09333333333333334, 0.14736842105263157]\n",
      "[0.4, 0.041237113402061855, 0.07476635514018691]\n",
      "[0.1, 0.03278688524590164, 0.04938271604938272]\n",
      "[0.65, 0.10833333333333334, 0.18571428571428572]\n",
      "[0.5, 0.11235955056179775, 0.18348623853211007]\n",
      "[0.3, 0.09836065573770492, 0.14814814814814814]\n",
      "[0.0, 0.0, 0.0]\n",
      "[0.55, 0.10679611650485436, 0.17886178861788618]\n",
      "average precision is 0.35, average recall is 0.07062918414100261, average f1 is 0.11598647053913835\n"
     ]
    }
   ],
   "source": [
    "selected_users = [19, 182, 219, 274, 294, 480, 489, 597, 599, 600]\n",
    "\n",
    "liste = []\n",
    "for i in selected_users:\n",
    "    recommended = make_recommendations_mostsimilar_knn(id=i, uri=uri, username=username, password=password)\n",
    "    liste.append(recommended)\n",
    "\n",
    "array = []\n",
    "for index, i in enumerate(selected_users):\n",
    "    real = ratings_test[ratings_test['userId'] == i]['movieTitle'].tolist()\n",
    "    reccomendation = liste[index]\n",
    "    array.append(precision_recall_f1_at_k(reccomendation, real, 20))\n",
    "    print(precision_recall_f1_at_k(reccomendation, real, 20))\n",
    "\n",
    "array = np.array(array)\n",
    "print(\"average precision is \" + str(array[:,0].mean()) +\", average recall is \"+ str(array[:,1].mean())+ \", average f1 is \" + str(array[:,2].mean()))"
   ]
  }
 ],
 "metadata": {
  "kernelspec": {
   "display_name": "datamining",
   "language": "python",
   "name": "python3"
  },
  "language_info": {
   "codemirror_mode": {
    "name": "ipython",
    "version": 3
   },
   "file_extension": ".py",
   "mimetype": "text/x-python",
   "name": "python",
   "nbconvert_exporter": "python",
   "pygments_lexer": "ipython3",
   "version": "3.9.16"
  }
 },
 "nbformat": 4,
 "nbformat_minor": 2
}
