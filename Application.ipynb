{
 "cells": [
  {
   "cell_type": "code",
   "execution_count": 2,
   "metadata": {},
   "outputs": [
    {
     "name": "stdout",
     "output_type": "stream",
     "text": [
      "Welcome to the movie recommender. If you want to get recommendations given a dataset press 1. \n",
      "If you want to get recommendation with question answering press 2. \n",
      "How many movie do you want to be recommended?\n",
      "What genre do you want to watch? \n",
      "Write the name of the item that you want to put. If that is enough, write 'quit'.\n",
      "Write the name of the item that you want to put. If that is enough, write 'quit'.\n",
      "Items in your list: \n",
      "war\n",
      "What director do you want to watch? \n",
      "Write the name of the item that you want to put. If that is enough, write 'quit'.\n",
      "Items in your list: \n",
      "What actor do you want to watch? \n",
      "Write the name of the item that you want to put. If that is enough, write 'quit'.\n",
      "Items in your list: \n",
      "Please dedicate a year of range you want to watch? \n",
      "Here are your recommendations: ...\n",
      "selected movie =>  Fort Bliss\n",
      "selected movie =>  Last Days in Vietnam\n",
      "selected movie =>  Memphis Belle\n",
      "selected movie =>  The Train\n",
      "selected movie =>  The Longest Day\n",
      "selected movie =>  Hope and Glory\n",
      "selected movie =>  Tigerland\n",
      "selected movie =>  KatyÅ„\n",
      "selected movie =>  Rescue Dawn\n",
      "selected movie =>  Mr. Pip\n"
     ]
    },
    {
     "data": {
      "text/plain": [
       "[None, None, None, None, None, None, None, None, None, None]"
      ]
     },
     "execution_count": 2,
     "metadata": {},
     "output_type": "execute_result"
    }
   ],
   "source": [
    "from Functions.prints import *\n",
    "from Functions.matcheditdistance import *\n",
    "import time\n",
    "from neo4j import GraphDatabase\n",
    "from py2neo import Graph\n",
    "import pandas as pd\n",
    "import numpy as np\n",
    "from Functions.functions_for_based_on_atttributes import *\n",
    "import warnings\n",
    "import time \n",
    "from Functions.functions_for_based_on_atttributes import *\n",
    "from Functions.matcheditdistance import *\n",
    "from Functions.functions import *\n",
    "\n",
    "warnings.filterwarnings(\"ignore\")\n",
    "\n",
    "while True:\n",
    "    time.sleep(0.5)\n",
    "    print(welcome_message)\n",
    "    x = input(\"Press a key: \")\n",
    "    if x == 'q':\n",
    "        break\n",
    "    else:\n",
    "        if x == \"1\":\n",
    "            time.sleep(0.5)\n",
    "            print(\"How many movie do you want to be recommended?\")\n",
    "            number = input(\"Number of movies to be recommended: \")\n",
    "            liste = create_user(tmdb)\n",
    "            [print(\"selected movie => \" , i) for i in liste[:int(number)]]\n",
    "\n",
    "\n",
    "\n",
    "        if x==\"2\":\n",
    "            time.sleep(0.5)\n",
    "            print(\"How many movie do you want to be recommended?\")\n",
    "            number = input(\"Number of movies to be recommended: \")\n",
    "            \n",
    "            time.sleep(0.5)\n",
    "            ask_genre_prompt()\n",
    "            genre = ask_for_list()\n",
    "            genre = closest_match_list(genre, genres)\n",
    "\n",
    "\n",
    "            time.sleep(0.5)\n",
    "            ask_director_prompt()\n",
    "            director = ask_for_list()\n",
    "            director = closest_match_list(director, directors)\n",
    "\n",
    "            time.sleep(0.5)\n",
    "            ask_actor_prompt()\n",
    "            actor = ask_for_list()\n",
    "            actor = closest_match_list(actor, actors)\n",
    "\n",
    "            time.sleep(0.5)\n",
    "            ask_year_prompt()\n",
    "            start_year = input(\"Starting Year: \")\n",
    "            end_year = input(\"Ending Year: \")\n",
    "            \n",
    "\n",
    "            time.sleep(0.5)\n",
    "            print(\"Here are your recommendations: ...\")\n",
    "            all_names = get_pooling(genre, director, actor, uri, username, password)\n",
    "            df = list_items(df, genre, director, actor, all_names, start_year, end_year)\n",
    "            break\n",
    "liste = df[\"original_title\"].tolist()\n",
    "[print(\"selected movie => \" , i) for i in liste[:int(number)]]"
   ]
  },
  {
   "cell_type": "code",
   "execution_count": null,
   "metadata": {},
   "outputs": [],
   "source": []
  }
 ],
 "metadata": {
  "kernelspec": {
   "display_name": "datamining",
   "language": "python",
   "name": "python3"
  },
  "language_info": {
   "codemirror_mode": {
    "name": "ipython",
    "version": 3
   },
   "file_extension": ".py",
   "mimetype": "text/x-python",
   "name": "python",
   "nbconvert_exporter": "python",
   "pygments_lexer": "ipython3",
   "version": "3.9.16"
  }
 },
 "nbformat": 4,
 "nbformat_minor": 2
}
